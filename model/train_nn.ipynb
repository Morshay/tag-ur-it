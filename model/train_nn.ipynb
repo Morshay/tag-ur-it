{
 "cells": [
  {
   "cell_type": "markdown",
   "metadata": {
    "deletable": false,
    "editable": false,
    "id": "WL0-sltAmVh5",
    "run_control": {
     "frozen": true
    }
   },
   "source": [
    "# danbooru tagger training"
   ]
  },
  {
   "cell_type": "markdown",
   "metadata": {
    "deletable": false,
    "editable": false,
    "run_control": {
     "frozen": true
    }
   },
   "source": [
    "this nb is used to show a training process with a small sample of 12 train and 4 val.  \n",
    "the actual training was performed with ~1000 train and ~100 val."
   ]
  },
  {
   "cell_type": "code",
   "execution_count": 1,
   "metadata": {
    "deletable": false,
    "editable": false,
    "run_control": {
     "frozen": true
    }
   },
   "outputs": [],
   "source": [
    "from effnet_tagger import *"
   ]
  },
  {
   "cell_type": "markdown",
   "metadata": {
    "deletable": false,
    "editable": false,
    "id": "bbkq3nZgmViG",
    "run_control": {
     "frozen": true
    }
   },
   "source": [
    "## defs"
   ]
  },
  {
   "cell_type": "code",
   "execution_count": 2,
   "metadata": {
    "deletable": false,
    "editable": false,
    "executionInfo": {
     "elapsed": 4,
     "status": "ok",
     "timestamp": 1657196524264,
     "user": {
      "displayName": "Mor Shay",
      "userId": "03998152450520253872"
     },
     "user_tz": -180
    },
    "id": "aGTjv1jgmViG",
    "run_control": {
     "frozen": true
    }
   },
   "outputs": [],
   "source": [
    "def get_data(train_ds, val_ds, bs):\n",
    "    return (\n",
    "        DataLoader(train_ds, batch_size=bs, shuffle=True,\n",
    "                   #  drop_last=True\n",
    "                   ),\n",
    "        DataLoader(val_ds, batch_size=bs * 2)\n",
    "    )"
   ]
  },
  {
   "cell_type": "code",
   "execution_count": 3,
   "metadata": {
    "deletable": false,
    "editable": false,
    "executionInfo": {
     "elapsed": 5,
     "status": "ok",
     "timestamp": 1657196524265,
     "user": {
      "displayName": "Mor Shay",
      "userId": "03998152450520253872"
     },
     "user_tz": -180
    },
    "id": "x94cT1mCmViH",
    "run_control": {
     "frozen": true
    }
   },
   "outputs": [],
   "source": [
    "def get_model(msd=None, osd=None):\n",
    "    model = EffnetTagger().to(dev)\n",
    "\n",
    "    if msd is not None:\n",
    "        model.load_state_dict(torch.load(msd))\n",
    "\n",
    "    optimizer = optim.AdamW(\n",
    "        model.parameters(),\n",
    "        lr=0.001,\n",
    "        betas=(0.9, 0.999),\n",
    "        eps=1e-08,\n",
    "        weight_decay=0.01,\n",
    "        amsgrad=False\n",
    "    )\n",
    "\n",
    "    if osd is not None:\n",
    "        optimizer.load_state_dict(torch.load(osd))\n",
    "\n",
    "    return model, optimizer"
   ]
  },
  {
   "cell_type": "code",
   "execution_count": 4,
   "metadata": {
    "deletable": false,
    "editable": false,
    "executionInfo": {
     "elapsed": 5,
     "status": "ok",
     "timestamp": 1657196524265,
     "user": {
      "displayName": "Mor Shay",
      "userId": "03998152450520253872"
     },
     "user_tz": -180
    },
    "id": "ZFYCLuUcmViH",
    "run_control": {
     "frozen": true
    }
   },
   "outputs": [],
   "source": [
    "def loss_batch(model, loss_func, xb, yb, opt=None):\n",
    "    loss = loss_func(model(xb), yb)\n",
    "\n",
    "    if opt is not None:\n",
    "        loss.backward()\n",
    "        opt.step()\n",
    "        opt.zero_grad()\n",
    "\n",
    "    return loss.item(), len(xb)"
   ]
  },
  {
   "cell_type": "code",
   "execution_count": 5,
   "metadata": {
    "deletable": false,
    "editable": false,
    "executionInfo": {
     "elapsed": 4,
     "status": "ok",
     "timestamp": 1657196524265,
     "user": {
      "displayName": "Mor Shay",
      "userId": "03998152450520253872"
     },
     "user_tz": -180
    },
    "id": "N3GEj2mQmViH",
    "run_control": {
     "frozen": true
    }
   },
   "outputs": [],
   "source": [
    "def fit(model, opt, train_dl, val_dl, res=pd.DataFrame(), epochs=10, loss_func=nn.MSELoss()):\n",
    "\n",
    "    loss_data = {\n",
    "        'train': [],\n",
    "        'val': []\n",
    "    }\n",
    "    \n",
    "    msd, osd = [\n",
    "        Path('nn-params') / f'{var}_state_dict'\n",
    "        for var in ['model', 'opt']\n",
    "    ]\n",
    "\n",
    "    for epoch in range(epochs):\n",
    "        model.train()\n",
    "        for xb, yb in train_dl:\n",
    "            xb.to(dev)\n",
    "            yb.to(dev)\n",
    "\n",
    "            losses, nums = zip(\n",
    "                *[loss_batch(model, loss_func, xb, yb, opt)\n",
    "                  for xb, yb in train_dl]\n",
    "            )\n",
    "\n",
    "            torch.save(model.state_dict(), msd)\n",
    "            torch.save(opt.state_dict(), osd)\n",
    "\n",
    "        train_loss = np.sum(np.multiply(losses, nums)) / np.sum(nums)\n",
    "        loss_data['train'].append(train_loss)\n",
    "\n",
    "        model.eval()\n",
    "        with torch.no_grad():\n",
    "            losses, nums = zip(\n",
    "                *[loss_batch(model, loss_func, xb, yb)\n",
    "                  for xb, yb in val_dl]\n",
    "            )\n",
    "        val_loss = np.sum(np.multiply(losses, nums)) / np.sum(nums)\n",
    "        loss_data['val'].append(val_loss)\n",
    "\n",
    "        print(\n",
    "            f'epoch: {epoch} | train MSE: {train_loss:.4f} | val MSE: {val_loss:.4f}')\n",
    "\n",
    "        pd.concat(\n",
    "            [res, pd.DataFrame(loss_data)]\n",
    "        ).to_csv('res.csv', index=False)"
   ]
  },
  {
   "cell_type": "markdown",
   "metadata": {
    "deletable": false,
    "editable": false,
    "id": "hjKLL4rgmViH",
    "run_control": {
     "frozen": true
    }
   },
   "source": [
    "## loop"
   ]
  },
  {
   "cell_type": "code",
   "execution_count": 6,
   "metadata": {
    "deletable": false,
    "editable": false,
    "executionInfo": {
     "elapsed": 5129,
     "status": "ok",
     "timestamp": 1657196523630,
     "user": {
      "displayName": "Mor Shay",
      "userId": "03998152450520253872"
     },
     "user_tz": -180
    },
    "id": "cJVSlKVimViD",
    "run_control": {
     "frozen": true
    }
   },
   "outputs": [],
   "source": [
    "train_dir = Path('data') / 'train'\n",
    "train_ids = [int(f.stem) for f in train_dir.glob('*')]\n",
    "train_labels = all_labels[all_labels.id.isin(train_ids)]\n",
    "train_ds = DanbooruDataset(label_data=train_labels, img_dir=train_dir)"
   ]
  },
  {
   "cell_type": "code",
   "execution_count": 7,
   "metadata": {
    "deletable": false,
    "editable": false,
    "executionInfo": {
     "elapsed": 636,
     "status": "ok",
     "timestamp": 1657196524263,
     "user": {
      "displayName": "Mor Shay",
      "userId": "03998152450520253872"
     },
     "user_tz": -180
    },
    "id": "EScveuWNmViD",
    "run_control": {
     "frozen": true
    }
   },
   "outputs": [],
   "source": [
    "val_dir = Path('data') / 'val'\n",
    "val_ids = [int(f.stem) for f in val_dir.glob('*')]\n",
    "val_labels = all_labels[all_labels.id.isin(val_ids)]\n",
    "val_ds = DanbooruDataset(label_data=val_labels, img_dir=val_dir)"
   ]
  },
  {
   "cell_type": "code",
   "execution_count": 8,
   "metadata": {
    "colab": {
     "base_uri": "https://localhost:8080/",
     "height": 104,
     "referenced_widgets": [
      "6a883486fb614f19a07d43add11ac8d3",
      "9d84af1e476f47aeb3d86e0f3ac4d491",
      "83589e78972b4b58b6031c657735c1ff",
      "5caf03f23d2e49a08b23238966580708",
      "9515c7b19a0e4ad0bea59b2528a74a83",
      "289deea5376640218f1ca3b3e99adb8e",
      "2f7e95f338a44b50a5913bcbd3dd459d",
      "d98516a9a6db4f9fa8e14b4f64739124",
      "3a9dd1859b8c43098c6637ad1f9f2175",
      "a344557606d04c92b84bacde284f43e2",
      "aa836decf8d44546b7966f8ace2d515e"
     ]
    },
    "deletable": false,
    "editable": false,
    "executionInfo": {
     "elapsed": 14254,
     "status": "ok",
     "timestamp": 1657196538515,
     "user": {
      "displayName": "Mor Shay",
      "userId": "03998152450520253872"
     },
     "user_tz": -180
    },
    "id": "rqHT_FpDmViH",
    "outputId": "adcb5295-026a-4a8f-a136-8c94997e96c9",
    "run_control": {
     "frozen": true
    }
   },
   "outputs": [
    {
     "name": "stderr",
     "output_type": "stream",
     "text": [
      "Using cache found in C:\\Users\\Morshay/.cache\\torch\\hub\\pytorch_vision_v0.12.0\n"
     ]
    }
   ],
   "source": [
    "train_dl, val_dl = get_data(train_ds, val_ds, 2)\n",
    "model, opt = get_model(\n",
    "#     *[Path('nn-params') / f'{var}_state_dict'\n",
    "#         for var in ['model', 'opt']]\n",
    ")\n",
    "# res = pd.read_csv('res.csv')"
   ]
  },
  {
   "cell_type": "code",
   "execution_count": 9,
   "metadata": {
    "deletable": false,
    "editable": false,
    "id": "tgWGIHFDJ0Ct",
    "run_control": {
     "frozen": true
    }
   },
   "outputs": [
    {
     "name": "stdout",
     "output_type": "stream",
     "text": [
      "epoch: 0 | train MSE: 0.1637 | val MSE: 0.1351\n",
      "epoch: 1 | train MSE: 0.1251 | val MSE: 0.1375\n",
      "epoch: 2 | train MSE: 0.0636 | val MSE: 0.1071\n",
      "epoch: 3 | train MSE: 0.0405 | val MSE: 0.0333\n",
      "epoch: 4 | train MSE: 0.0173 | val MSE: 0.0116\n",
      "epoch: 5 | train MSE: 0.0110 | val MSE: 0.0088\n",
      "epoch: 6 | train MSE: 0.0083 | val MSE: 0.0091\n",
      "epoch: 7 | train MSE: 0.0094 | val MSE: 0.0089\n",
      "epoch: 8 | train MSE: 0.0098 | val MSE: 0.0094\n",
      "epoch: 9 | train MSE: 0.0119 | val MSE: 0.0102\n"
     ]
    }
   ],
   "source": [
    "fit(model, opt, train_dl, val_dl,\n",
    "    # res\n",
    "    )"
   ]
  },
  {
   "cell_type": "markdown",
   "metadata": {
    "deletable": false,
    "editable": false,
    "run_control": {
     "frozen": true
    }
   },
   "source": [
    "## MSE plot"
   ]
  },
  {
   "cell_type": "code",
   "execution_count": 10,
   "metadata": {
    "deletable": false,
    "editable": false,
    "run_control": {
     "frozen": true
    }
   },
   "outputs": [
    {
     "data": {
      "text/html": [
       "\n",
       "<div id=\"altair-viz-0ede13bb64834dbc91ca73bd6330b45f\"></div>\n",
       "<script type=\"text/javascript\">\n",
       "  var VEGA_DEBUG = (typeof VEGA_DEBUG == \"undefined\") ? {} : VEGA_DEBUG;\n",
       "  (function(spec, embedOpt){\n",
       "    let outputDiv = document.currentScript.previousElementSibling;\n",
       "    if (outputDiv.id !== \"altair-viz-0ede13bb64834dbc91ca73bd6330b45f\") {\n",
       "      outputDiv = document.getElementById(\"altair-viz-0ede13bb64834dbc91ca73bd6330b45f\");\n",
       "    }\n",
       "    const paths = {\n",
       "      \"vega\": \"https://cdn.jsdelivr.net/npm//vega@5?noext\",\n",
       "      \"vega-lib\": \"https://cdn.jsdelivr.net/npm//vega-lib?noext\",\n",
       "      \"vega-lite\": \"https://cdn.jsdelivr.net/npm//vega-lite@4.17.0?noext\",\n",
       "      \"vega-embed\": \"https://cdn.jsdelivr.net/npm//vega-embed@6?noext\",\n",
       "    };\n",
       "\n",
       "    function maybeLoadScript(lib, version) {\n",
       "      var key = `${lib.replace(\"-\", \"\")}_version`;\n",
       "      return (VEGA_DEBUG[key] == version) ?\n",
       "        Promise.resolve(paths[lib]) :\n",
       "        new Promise(function(resolve, reject) {\n",
       "          var s = document.createElement('script');\n",
       "          document.getElementsByTagName(\"head\")[0].appendChild(s);\n",
       "          s.async = true;\n",
       "          s.onload = () => {\n",
       "            VEGA_DEBUG[key] = version;\n",
       "            return resolve(paths[lib]);\n",
       "          };\n",
       "          s.onerror = () => reject(`Error loading script: ${paths[lib]}`);\n",
       "          s.src = paths[lib];\n",
       "        });\n",
       "    }\n",
       "\n",
       "    function showError(err) {\n",
       "      outputDiv.innerHTML = `<div class=\"error\" style=\"color:red;\">${err}</div>`;\n",
       "      throw err;\n",
       "    }\n",
       "\n",
       "    function displayChart(vegaEmbed) {\n",
       "      vegaEmbed(outputDiv, spec, embedOpt)\n",
       "        .catch(err => showError(`Javascript Error: ${err.message}<br>This usually means there's a typo in your chart specification. See the javascript console for the full traceback.`));\n",
       "    }\n",
       "\n",
       "    if(typeof define === \"function\" && define.amd) {\n",
       "      requirejs.config({paths});\n",
       "      require([\"vega-embed\"], displayChart, err => showError(`Error loading script: ${err.message}`));\n",
       "    } else {\n",
       "      maybeLoadScript(\"vega\", \"5\")\n",
       "        .then(() => maybeLoadScript(\"vega-lite\", \"4.17.0\"))\n",
       "        .then(() => maybeLoadScript(\"vega-embed\", \"6\"))\n",
       "        .catch(showError)\n",
       "        .then(() => displayChart(vegaEmbed));\n",
       "    }\n",
       "  })({\"config\": {\"view\": {\"continuousWidth\": 400, \"continuousHeight\": 300}}, \"data\": {\"name\": \"data-fec4b03b20b22c30ee23245cf6c9e5d1\"}, \"mark\": \"line\", \"encoding\": {\"color\": {\"field\": \"stage\", \"scale\": {\"scheme\": \"viridis\"}, \"type\": \"nominal\"}, \"x\": {\"field\": \"epoch\", \"type\": \"quantitative\"}, \"y\": {\"field\": \"MSE loss\", \"type\": \"quantitative\"}}, \"$schema\": \"https://vega.github.io/schema/vega-lite/v4.17.0.json\", \"datasets\": {\"data-fec4b03b20b22c30ee23245cf6c9e5d1\": [{\"epoch\": 0, \"stage\": \"train\", \"MSE loss\": 0.1637189835309982}, {\"epoch\": 1, \"stage\": \"train\", \"MSE loss\": 0.1250691525638103}, {\"epoch\": 2, \"stage\": \"train\", \"MSE loss\": 0.0636111454417308}, {\"epoch\": 3, \"stage\": \"train\", \"MSE loss\": 0.0404980046053727}, {\"epoch\": 4, \"stage\": \"train\", \"MSE loss\": 0.0173461476030449}, {\"epoch\": 5, \"stage\": \"train\", \"MSE loss\": 0.0110087941090265}, {\"epoch\": 6, \"stage\": \"train\", \"MSE loss\": 0.0083391460745284}, {\"epoch\": 7, \"stage\": \"train\", \"MSE loss\": 0.0094310014974325}, {\"epoch\": 8, \"stage\": \"train\", \"MSE loss\": 0.0098047240171581}, {\"epoch\": 9, \"stage\": \"train\", \"MSE loss\": 0.011947881973659}, {\"epoch\": 0, \"stage\": \"val\", \"MSE loss\": 0.1350692808628082}, {\"epoch\": 1, \"stage\": \"val\", \"MSE loss\": 0.137511745095253}, {\"epoch\": 2, \"stage\": \"val\", \"MSE loss\": 0.1070734858512878}, {\"epoch\": 3, \"stage\": \"val\", \"MSE loss\": 0.0332957990467548}, {\"epoch\": 4, \"stage\": \"val\", \"MSE loss\": 0.0116026187315583}, {\"epoch\": 5, \"stage\": \"val\", \"MSE loss\": 0.0088364100083708}, {\"epoch\": 6, \"stage\": \"val\", \"MSE loss\": 0.0090639293193817}, {\"epoch\": 7, \"stage\": \"val\", \"MSE loss\": 0.0089426711201667}, {\"epoch\": 8, \"stage\": \"val\", \"MSE loss\": 0.0093975653871893}, {\"epoch\": 9, \"stage\": \"val\", \"MSE loss\": 0.0102014783769845}]}}, {\"mode\": \"vega-lite\"});\n",
       "</script>"
      ],
      "text/plain": [
       "alt.Chart(...)"
      ]
     },
     "execution_count": 10,
     "metadata": {},
     "output_type": "execute_result"
    }
   ],
   "source": [
    "alt.Chart(\n",
    "    pd.read_csv(\n",
    "        'res.csv'\n",
    "    ).reset_index(\n",
    "    ).rename(\n",
    "        {'index': 'epoch'},\n",
    "        axis='columns'\n",
    "    ).melt(\n",
    "        id_vars=['epoch'],\n",
    "        value_vars=['train', 'val'],\n",
    "        var_name='stage',\n",
    "        value_name='MSE loss'\n",
    "    )\n",
    ").mark_line(\n",
    ").encode(\n",
    "    x='epoch:Q',\n",
    "    y='MSE loss:Q',\n",
    "    color=alt.Color(\n",
    "        'stage',\n",
    "        scale=alt.Scale(\n",
    "            scheme='viridis'\n",
    "        )\n",
    "    )\n",
    ")"
   ]
  }
 ],
 "metadata": {
  "accelerator": "GPU",
  "colab": {
   "collapsed_sections": [],
   "name": "train_nn.ipynb",
   "provenance": []
  },
  "gpuClass": "standard",
  "kernelspec": {
   "display_name": "Python 3 (ipykernel)",
   "language": "python",
   "name": "python3"
  },
  "language_info": {
   "codemirror_mode": {
    "name": "ipython",
    "version": 3
   },
   "file_extension": ".py",
   "mimetype": "text/x-python",
   "name": "python",
   "nbconvert_exporter": "python",
   "pygments_lexer": "ipython3",
   "version": "3.9.12"
  },
  "toc": {
   "base_numbering": 1,
   "nav_menu": {},
   "number_sections": true,
   "sideBar": true,
   "skip_h1_title": true,
   "title_cell": "Table of Contents",
   "title_sidebar": "Contents",
   "toc_cell": false,
   "toc_position": {
    "height": "calc(100% - 180px)",
    "left": "10px",
    "top": "150px",
    "width": "290.6px"
   },
   "toc_section_display": true,
   "toc_window_display": false
  },
  "widgets": {
   "application/vnd.jupyter.widget-state+json": {
    "289deea5376640218f1ca3b3e99adb8e": {
     "model_module": "@jupyter-widgets/base",
     "model_module_version": "1.2.0",
     "model_name": "LayoutModel",
     "state": {
      "_model_module": "@jupyter-widgets/base",
      "_model_module_version": "1.2.0",
      "_model_name": "LayoutModel",
      "_view_count": null,
      "_view_module": "@jupyter-widgets/base",
      "_view_module_version": "1.2.0",
      "_view_name": "LayoutView",
      "align_content": null,
      "align_items": null,
      "align_self": null,
      "border": null,
      "bottom": null,
      "display": null,
      "flex": null,
      "flex_flow": null,
      "grid_area": null,
      "grid_auto_columns": null,
      "grid_auto_flow": null,
      "grid_auto_rows": null,
      "grid_column": null,
      "grid_gap": null,
      "grid_row": null,
      "grid_template_areas": null,
      "grid_template_columns": null,
      "grid_template_rows": null,
      "height": null,
      "justify_content": null,
      "justify_items": null,
      "left": null,
      "margin": null,
      "max_height": null,
      "max_width": null,
      "min_height": null,
      "min_width": null,
      "object_fit": null,
      "object_position": null,
      "order": null,
      "overflow": null,
      "overflow_x": null,
      "overflow_y": null,
      "padding": null,
      "right": null,
      "top": null,
      "visibility": null,
      "width": null
     }
    },
    "2f7e95f338a44b50a5913bcbd3dd459d": {
     "model_module": "@jupyter-widgets/controls",
     "model_module_version": "1.5.0",
     "model_name": "DescriptionStyleModel",
     "state": {
      "_model_module": "@jupyter-widgets/controls",
      "_model_module_version": "1.5.0",
      "_model_name": "DescriptionStyleModel",
      "_view_count": null,
      "_view_module": "@jupyter-widgets/base",
      "_view_module_version": "1.2.0",
      "_view_name": "StyleView",
      "description_width": ""
     }
    },
    "3a9dd1859b8c43098c6637ad1f9f2175": {
     "model_module": "@jupyter-widgets/controls",
     "model_module_version": "1.5.0",
     "model_name": "ProgressStyleModel",
     "state": {
      "_model_module": "@jupyter-widgets/controls",
      "_model_module_version": "1.5.0",
      "_model_name": "ProgressStyleModel",
      "_view_count": null,
      "_view_module": "@jupyter-widgets/base",
      "_view_module_version": "1.2.0",
      "_view_name": "StyleView",
      "bar_color": null,
      "description_width": ""
     }
    },
    "5caf03f23d2e49a08b23238966580708": {
     "model_module": "@jupyter-widgets/controls",
     "model_module_version": "1.5.0",
     "model_name": "HTMLModel",
     "state": {
      "_dom_classes": [],
      "_model_module": "@jupyter-widgets/controls",
      "_model_module_version": "1.5.0",
      "_model_name": "HTMLModel",
      "_view_count": null,
      "_view_module": "@jupyter-widgets/controls",
      "_view_module_version": "1.5.0",
      "_view_name": "HTMLView",
      "description": "",
      "description_tooltip": null,
      "layout": "IPY_MODEL_a344557606d04c92b84bacde284f43e2",
      "placeholder": "​",
      "style": "IPY_MODEL_aa836decf8d44546b7966f8ace2d515e",
      "value": " 74.5M/74.5M [00:00&lt;00:00, 217MB/s]"
     }
    },
    "6a883486fb614f19a07d43add11ac8d3": {
     "model_module": "@jupyter-widgets/controls",
     "model_module_version": "1.5.0",
     "model_name": "HBoxModel",
     "state": {
      "_dom_classes": [],
      "_model_module": "@jupyter-widgets/controls",
      "_model_module_version": "1.5.0",
      "_model_name": "HBoxModel",
      "_view_count": null,
      "_view_module": "@jupyter-widgets/controls",
      "_view_module_version": "1.5.0",
      "_view_name": "HBoxView",
      "box_style": "",
      "children": [
       "IPY_MODEL_9d84af1e476f47aeb3d86e0f3ac4d491",
       "IPY_MODEL_83589e78972b4b58b6031c657735c1ff",
       "IPY_MODEL_5caf03f23d2e49a08b23238966580708"
      ],
      "layout": "IPY_MODEL_9515c7b19a0e4ad0bea59b2528a74a83"
     }
    },
    "83589e78972b4b58b6031c657735c1ff": {
     "model_module": "@jupyter-widgets/controls",
     "model_module_version": "1.5.0",
     "model_name": "FloatProgressModel",
     "state": {
      "_dom_classes": [],
      "_model_module": "@jupyter-widgets/controls",
      "_model_module_version": "1.5.0",
      "_model_name": "FloatProgressModel",
      "_view_count": null,
      "_view_module": "@jupyter-widgets/controls",
      "_view_module_version": "1.5.0",
      "_view_name": "ProgressView",
      "bar_style": "success",
      "description": "",
      "description_tooltip": null,
      "layout": "IPY_MODEL_d98516a9a6db4f9fa8e14b4f64739124",
      "max": 78107389,
      "min": 0,
      "orientation": "horizontal",
      "style": "IPY_MODEL_3a9dd1859b8c43098c6637ad1f9f2175",
      "value": 78107389
     }
    },
    "9515c7b19a0e4ad0bea59b2528a74a83": {
     "model_module": "@jupyter-widgets/base",
     "model_module_version": "1.2.0",
     "model_name": "LayoutModel",
     "state": {
      "_model_module": "@jupyter-widgets/base",
      "_model_module_version": "1.2.0",
      "_model_name": "LayoutModel",
      "_view_count": null,
      "_view_module": "@jupyter-widgets/base",
      "_view_module_version": "1.2.0",
      "_view_name": "LayoutView",
      "align_content": null,
      "align_items": null,
      "align_self": null,
      "border": null,
      "bottom": null,
      "display": null,
      "flex": null,
      "flex_flow": null,
      "grid_area": null,
      "grid_auto_columns": null,
      "grid_auto_flow": null,
      "grid_auto_rows": null,
      "grid_column": null,
      "grid_gap": null,
      "grid_row": null,
      "grid_template_areas": null,
      "grid_template_columns": null,
      "grid_template_rows": null,
      "height": null,
      "justify_content": null,
      "justify_items": null,
      "left": null,
      "margin": null,
      "max_height": null,
      "max_width": null,
      "min_height": null,
      "min_width": null,
      "object_fit": null,
      "object_position": null,
      "order": null,
      "overflow": null,
      "overflow_x": null,
      "overflow_y": null,
      "padding": null,
      "right": null,
      "top": null,
      "visibility": null,
      "width": null
     }
    },
    "9d84af1e476f47aeb3d86e0f3ac4d491": {
     "model_module": "@jupyter-widgets/controls",
     "model_module_version": "1.5.0",
     "model_name": "HTMLModel",
     "state": {
      "_dom_classes": [],
      "_model_module": "@jupyter-widgets/controls",
      "_model_module_version": "1.5.0",
      "_model_name": "HTMLModel",
      "_view_count": null,
      "_view_module": "@jupyter-widgets/controls",
      "_view_module_version": "1.5.0",
      "_view_name": "HTMLView",
      "description": "",
      "description_tooltip": null,
      "layout": "IPY_MODEL_289deea5376640218f1ca3b3e99adb8e",
      "placeholder": "​",
      "style": "IPY_MODEL_2f7e95f338a44b50a5913bcbd3dd459d",
      "value": "100%"
     }
    },
    "a344557606d04c92b84bacde284f43e2": {
     "model_module": "@jupyter-widgets/base",
     "model_module_version": "1.2.0",
     "model_name": "LayoutModel",
     "state": {
      "_model_module": "@jupyter-widgets/base",
      "_model_module_version": "1.2.0",
      "_model_name": "LayoutModel",
      "_view_count": null,
      "_view_module": "@jupyter-widgets/base",
      "_view_module_version": "1.2.0",
      "_view_name": "LayoutView",
      "align_content": null,
      "align_items": null,
      "align_self": null,
      "border": null,
      "bottom": null,
      "display": null,
      "flex": null,
      "flex_flow": null,
      "grid_area": null,
      "grid_auto_columns": null,
      "grid_auto_flow": null,
      "grid_auto_rows": null,
      "grid_column": null,
      "grid_gap": null,
      "grid_row": null,
      "grid_template_areas": null,
      "grid_template_columns": null,
      "grid_template_rows": null,
      "height": null,
      "justify_content": null,
      "justify_items": null,
      "left": null,
      "margin": null,
      "max_height": null,
      "max_width": null,
      "min_height": null,
      "min_width": null,
      "object_fit": null,
      "object_position": null,
      "order": null,
      "overflow": null,
      "overflow_x": null,
      "overflow_y": null,
      "padding": null,
      "right": null,
      "top": null,
      "visibility": null,
      "width": null
     }
    },
    "aa836decf8d44546b7966f8ace2d515e": {
     "model_module": "@jupyter-widgets/controls",
     "model_module_version": "1.5.0",
     "model_name": "DescriptionStyleModel",
     "state": {
      "_model_module": "@jupyter-widgets/controls",
      "_model_module_version": "1.5.0",
      "_model_name": "DescriptionStyleModel",
      "_view_count": null,
      "_view_module": "@jupyter-widgets/base",
      "_view_module_version": "1.2.0",
      "_view_name": "StyleView",
      "description_width": ""
     }
    },
    "d98516a9a6db4f9fa8e14b4f64739124": {
     "model_module": "@jupyter-widgets/base",
     "model_module_version": "1.2.0",
     "model_name": "LayoutModel",
     "state": {
      "_model_module": "@jupyter-widgets/base",
      "_model_module_version": "1.2.0",
      "_model_name": "LayoutModel",
      "_view_count": null,
      "_view_module": "@jupyter-widgets/base",
      "_view_module_version": "1.2.0",
      "_view_name": "LayoutView",
      "align_content": null,
      "align_items": null,
      "align_self": null,
      "border": null,
      "bottom": null,
      "display": null,
      "flex": null,
      "flex_flow": null,
      "grid_area": null,
      "grid_auto_columns": null,
      "grid_auto_flow": null,
      "grid_auto_rows": null,
      "grid_column": null,
      "grid_gap": null,
      "grid_row": null,
      "grid_template_areas": null,
      "grid_template_columns": null,
      "grid_template_rows": null,
      "height": null,
      "justify_content": null,
      "justify_items": null,
      "left": null,
      "margin": null,
      "max_height": null,
      "max_width": null,
      "min_height": null,
      "min_width": null,
      "object_fit": null,
      "object_position": null,
      "order": null,
      "overflow": null,
      "overflow_x": null,
      "overflow_y": null,
      "padding": null,
      "right": null,
      "top": null,
      "visibility": null,
      "width": null
     }
    }
   }
  }
 },
 "nbformat": 4,
 "nbformat_minor": 1
}
